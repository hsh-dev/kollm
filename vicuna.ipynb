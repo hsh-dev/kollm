{
 "cells": [
  {
   "attachments": {},
   "cell_type": "markdown",
   "metadata": {},
   "source": [
    "## Vicuna"
   ]
  },
  {
   "attachments": {},
   "cell_type": "markdown",
   "metadata": {},
   "source": [
    "### 1. Requirements"
   ]
  },
  {
   "cell_type": "code",
   "execution_count": 1,
   "metadata": {},
   "outputs": [
    {
     "name": "stdout",
     "output_type": "stream",
     "text": [
      "Defaulting to user installation because normal site-packages is not writeable\n",
      "Collecting fschat\n",
      "  Downloading fschat-0.2.11-py3-none-any.whl (121 kB)\n",
      "\u001b[2K     \u001b[90m━━━━━━━━━━━━━━━━━━━━━━━━━━━━━━━━━━━━━━\u001b[0m \u001b[32m121.8/121.8 kB\u001b[0m \u001b[31m12.1 MB/s\u001b[0m eta \u001b[36m0:00:00\u001b[0m\n",
      "\u001b[?25hRequirement already satisfied: prompt-toolkit>=3.0.0 in /home/zai-user/.local/lib/python3.10/site-packages (from fschat) (3.0.33)\n",
      "Collecting wandb\n",
      "  Downloading wandb-0.15.3-py3-none-any.whl (2.0 MB)\n",
      "\u001b[2K     \u001b[90m━━━━━━━━━━━━━━━━━━━━━━━━━━━━━━━━━━━━━━━━\u001b[0m \u001b[32m2.0/2.0 MB\u001b[0m \u001b[31m40.1 MB/s\u001b[0m eta \u001b[36m0:00:00\u001b[0m00:01\u001b[0m\n",
      "\u001b[?25hCollecting markdown2[all]\n",
      "  Downloading markdown2-2.4.8-py2.py3-none-any.whl (38 kB)\n",
      "Collecting gradio==3.23\n",
      "  Downloading gradio-3.23.0-py3-none-any.whl (15.8 MB)\n",
      "\u001b[2K     \u001b[90m━━━━━━━━━━━━━━━━━━━━━━━━━━━━━━━━━━━━━━━━\u001b[0m \u001b[32m15.8/15.8 MB\u001b[0m \u001b[31m26.1 MB/s\u001b[0m eta \u001b[36m0:00:00\u001b[0m00:01\u001b[0m00:01\u001b[0m\n",
      "\u001b[?25hCollecting accelerate\n",
      "  Downloading accelerate-0.19.0-py3-none-any.whl (219 kB)\n",
      "\u001b[2K     \u001b[90m━━━━━━━━━━━━━━━━━━━━━━━━━━━━━━━━━━━━━━\u001b[0m \u001b[32m219.1/219.1 kB\u001b[0m \u001b[31m34.7 MB/s\u001b[0m eta \u001b[36m0:00:00\u001b[0m\n",
      "\u001b[?25hRequirement already satisfied: torch in /home/zai-user/.local/lib/python3.10/site-packages (from fschat) (1.12.1)\n",
      "Requirement already satisfied: requests in /home/zai-user/.local/lib/python3.10/site-packages (from fschat) (2.28.1)\n",
      "Collecting shortuuid\n",
      "  Downloading shortuuid-1.0.11-py3-none-any.whl (10 kB)\n",
      "Requirement already satisfied: uvicorn in /home/zai-user/.local/lib/python3.10/site-packages (from fschat) (0.18.3)\n",
      "Requirement already satisfied: numpy in /home/zai-user/.local/lib/python3.10/site-packages (from fschat) (1.22.4)\n",
      "Collecting httpx\n",
      "  Downloading httpx-0.24.1-py3-none-any.whl (75 kB)\n",
      "\u001b[2K     \u001b[90m━━━━━━━━━━━━━━━━━━━━━━━━━━━━━━━━━━━━━━━━\u001b[0m \u001b[32m75.4/75.4 kB\u001b[0m \u001b[31m14.5 MB/s\u001b[0m eta \u001b[36m0:00:00\u001b[0m\n",
      "\u001b[?25hCollecting tiktoken\n",
      "  Downloading tiktoken-0.4.0-cp310-cp310-manylinux_2_17_x86_64.manylinux2014_x86_64.whl (1.7 MB)\n",
      "\u001b[2K     \u001b[90m━━━━━━━━━━━━━━━━━━━━━━━━━━━━━━━━━━━━━━━━\u001b[0m \u001b[32m1.7/1.7 MB\u001b[0m \u001b[31m46.1 MB/s\u001b[0m eta \u001b[36m0:00:00\u001b[0m00:01\u001b[0m\n",
      "\u001b[?25hCollecting tokenizers>=0.12.1\n",
      "  Downloading tokenizers-0.13.3-cp310-cp310-manylinux_2_17_x86_64.manylinux2014_x86_64.whl (7.8 MB)\n",
      "\u001b[2K     \u001b[90m━━━━━━━━━━━━━━━━━━━━━━━━━━━━━━━━━━━━━━━━\u001b[0m \u001b[32m7.8/7.8 MB\u001b[0m \u001b[31m42.5 MB/s\u001b[0m eta \u001b[36m0:00:00\u001b[0m00:01\u001b[0m00:01\u001b[0m\n",
      "\u001b[?25hCollecting nh3\n",
      "  Downloading nh3-0.2.11-cp37-abi3-manylinux_2_17_x86_64.manylinux2014_x86_64.whl (1.6 MB)\n",
      "\u001b[2K     \u001b[90m━━━━━━━━━━━━━━━━━━━━━━━━━━━━━━━━━━━━━━━━\u001b[0m \u001b[32m1.6/1.6 MB\u001b[0m \u001b[31m45.4 MB/s\u001b[0m eta \u001b[36m0:00:00\u001b[0m00:01\u001b[0m\n",
      "\u001b[?25hRequirement already satisfied: fastapi in /home/zai-user/.local/lib/python3.10/site-packages (from fschat) (0.86.0)\n",
      "Requirement already satisfied: pydantic in /home/zai-user/.local/lib/python3.10/site-packages (from fschat) (1.10.7)\n",
      "Requirement already satisfied: rich>=10.0.0 in /home/zai-user/.local/lib/python3.10/site-packages (from fschat) (12.6.0)\n",
      "Collecting transformers<4.29.0,>=4.28.0\n",
      "  Downloading transformers-4.28.1-py3-none-any.whl (7.0 MB)\n",
      "\u001b[2K     \u001b[90m━━━━━━━━━━━━━━━━━━━━━━━━━━━━━━━━━━━━━━━━\u001b[0m \u001b[32m7.0/7.0 MB\u001b[0m \u001b[31m46.9 MB/s\u001b[0m eta \u001b[36m0:00:00\u001b[0m00:01\u001b[0m00:01\u001b[0m\n",
      "\u001b[?25hCollecting sentencepiece\n",
      "  Downloading sentencepiece-0.1.99-cp310-cp310-manylinux_2_17_x86_64.manylinux2014_x86_64.whl (1.3 MB)\n",
      "\u001b[2K     \u001b[90m━━━━━━━━━━━━━━━━━━━━━━━━━━━━━━━━━━━━━━━━\u001b[0m \u001b[32m1.3/1.3 MB\u001b[0m \u001b[31m45.7 MB/s\u001b[0m eta \u001b[36m0:00:00\u001b[0m\n",
      "\u001b[?25hRequirement already satisfied: pyyaml in /home/zai-user/.local/lib/python3.10/site-packages (from gradio==3.23->fschat) (6.0)\n",
      "Collecting huggingface-hub>=0.13.0\n",
      "  Downloading huggingface_hub-0.14.1-py3-none-any.whl (224 kB)\n",
      "\u001b[2K     \u001b[90m━━━━━━━━━━━━━━━━━━━━━━━━━━━━━━━━━━━━━━\u001b[0m \u001b[32m224.5/224.5 kB\u001b[0m \u001b[31m39.5 MB/s\u001b[0m eta \u001b[36m0:00:00\u001b[0m\n",
      "\u001b[?25hRequirement already satisfied: pillow in /home/zai-user/.local/lib/python3.10/site-packages (from gradio==3.23->fschat) (9.3.0)\n",
      "Requirement already satisfied: typing-extensions in /home/zai-user/.local/lib/python3.10/site-packages (from gradio==3.23->fschat) (4.4.0)\n",
      "Requirement already satisfied: markupsafe in /home/zai-user/.local/lib/python3.10/site-packages (from gradio==3.23->fschat) (2.1.1)\n",
      "Requirement already satisfied: matplotlib in /home/zai-user/.local/lib/python3.10/site-packages (from gradio==3.23->fschat) (3.6.2)\n",
      "Collecting pydub\n",
      "  Downloading pydub-0.25.1-py2.py3-none-any.whl (32 kB)\n",
      "Collecting semantic-version\n",
      "  Downloading semantic_version-2.10.0-py2.py3-none-any.whl (15 kB)\n",
      "Collecting mdit-py-plugins<=0.3.3\n",
      "  Downloading mdit_py_plugins-0.3.3-py3-none-any.whl (50 kB)\n",
      "\u001b[2K     \u001b[90m━━━━━━━━━━━━━━━━━━━━━━━━━━━━━━━━━━━━━━━━\u001b[0m \u001b[32m50.5/50.5 kB\u001b[0m \u001b[31m9.7 MB/s\u001b[0m eta \u001b[36m0:00:00\u001b[0m\n",
      "\u001b[?25hCollecting markdown-it-py[linkify]>=2.0.0\n",
      "  Downloading markdown_it_py-2.2.0-py3-none-any.whl (84 kB)\n",
      "\u001b[2K     \u001b[90m━━━━━━━━━━━━━━━━━━━━━━━━━━━━━━━━━━━━━━━━\u001b[0m \u001b[32m84.5/84.5 kB\u001b[0m \u001b[31m15.8 MB/s\u001b[0m eta \u001b[36m0:00:00\u001b[0m\n",
      "\u001b[?25hRequirement already satisfied: aiohttp in /home/zai-user/.local/lib/python3.10/site-packages (from gradio==3.23->fschat) (3.8.3)\n",
      "Collecting ffmpy\n",
      "  Downloading ffmpy-0.3.0.tar.gz (4.8 kB)\n",
      "  Preparing metadata (setup.py) ... \u001b[?25ldone\n",
      "\u001b[?25hRequirement already satisfied: orjson in /home/zai-user/.local/lib/python3.10/site-packages (from gradio==3.23->fschat) (3.8.2)\n",
      "Collecting altair>=4.2.0\n",
      "  Downloading altair-5.0.1-py3-none-any.whl (471 kB)\n",
      "\u001b[2K     \u001b[90m━━━━━━━━━━━━━━━━━━━━━━━━━━━━━━━━━━━━━━\u001b[0m \u001b[32m471.5/471.5 kB\u001b[0m \u001b[31m45.4 MB/s\u001b[0m eta \u001b[36m0:00:00\u001b[0m\n",
      "\u001b[?25hRequirement already satisfied: python-multipart in /home/zai-user/.local/lib/python3.10/site-packages (from gradio==3.23->fschat) (0.0.5)\n",
      "Requirement already satisfied: pandas in /home/zai-user/.local/lib/python3.10/site-packages (from gradio==3.23->fschat) (2.0.1)\n",
      "Collecting fsspec\n",
      "  Downloading fsspec-2023.5.0-py3-none-any.whl (160 kB)\n",
      "\u001b[2K     \u001b[90m━━━━━━━━━━━━━━━━━━━━━━━━━━━━━━━━━━━━━━\u001b[0m \u001b[32m160.1/160.1 kB\u001b[0m \u001b[31m27.8 MB/s\u001b[0m eta \u001b[36m0:00:00\u001b[0m\n",
      "\u001b[?25hRequirement already satisfied: jinja2 in /home/zai-user/.local/lib/python3.10/site-packages (from gradio==3.23->fschat) (3.1.2)\n",
      "Requirement already satisfied: websockets>=10.0 in /home/zai-user/.local/lib/python3.10/site-packages (from gradio==3.23->fschat) (10.4)\n",
      "Collecting aiofiles\n",
      "  Downloading aiofiles-23.1.0-py3-none-any.whl (14 kB)\n",
      "Requirement already satisfied: wcwidth in /home/zai-user/.local/lib/python3.10/site-packages (from prompt-toolkit>=3.0.0->fschat) (0.2.5)\n",
      "Requirement already satisfied: pygments<3.0.0,>=2.6.0 in /home/zai-user/.local/lib/python3.10/site-packages (from rich>=10.0.0->fschat) (2.13.0)\n",
      "Requirement already satisfied: commonmark<0.10.0,>=0.9.0 in /home/zai-user/.local/lib/python3.10/site-packages (from rich>=10.0.0->fschat) (0.9.1)\n",
      "Requirement already satisfied: tqdm>=4.27 in /home/zai-user/.local/lib/python3.10/site-packages (from transformers<4.29.0,>=4.28.0->fschat) (4.64.1)\n",
      "Collecting regex!=2019.12.17\n",
      "  Downloading regex-2023.5.5-cp310-cp310-manylinux_2_17_x86_64.manylinux2014_x86_64.whl (769 kB)\n",
      "\u001b[2K     \u001b[90m━━━━━━━━━━━━━━━━━━━━━━━━━━━━━━━━━━━━━━\u001b[0m \u001b[32m769.7/769.7 kB\u001b[0m \u001b[31m47.5 MB/s\u001b[0m eta \u001b[36m0:00:00\u001b[0m\n",
      "\u001b[?25hRequirement already satisfied: packaging>=20.0 in /home/zai-user/.local/lib/python3.10/site-packages (from transformers<4.29.0,>=4.28.0->fschat) (21.3)\n",
      "Requirement already satisfied: filelock in /home/zai-user/.local/lib/python3.10/site-packages (from transformers<4.29.0,>=4.28.0->fschat) (3.12.0)\n",
      "Requirement already satisfied: psutil in /home/zai-user/.local/lib/python3.10/site-packages (from accelerate->fschat) (5.9.4)\n",
      "Requirement already satisfied: starlette==0.20.4 in /home/zai-user/.local/lib/python3.10/site-packages (from fastapi->fschat) (0.20.4)\n",
      "Requirement already satisfied: anyio<5,>=3.4.0 in /home/zai-user/.local/lib/python3.10/site-packages (from starlette==0.20.4->fastapi->fschat) (3.6.2)\n",
      "Requirement already satisfied: sniffio in /home/zai-user/.local/lib/python3.10/site-packages (from httpx->fschat) (1.3.0)\n",
      "Requirement already satisfied: idna in /usr/lib/python3/dist-packages (from httpx->fschat) (2.8)\n",
      "Collecting httpcore<0.18.0,>=0.15.0\n",
      "  Downloading httpcore-0.17.2-py3-none-any.whl (72 kB)\n",
      "\u001b[2K     \u001b[90m━━━━━━━━━━━━━━━━━━━━━━━━━━━━━━━━━━━━━━━━\u001b[0m \u001b[32m72.5/72.5 kB\u001b[0m \u001b[31m19.8 MB/s\u001b[0m eta \u001b[36m0:00:00\u001b[0m\n",
      "\u001b[?25hRequirement already satisfied: certifi in /home/zai-user/.local/lib/python3.10/site-packages (from httpx->fschat) (2022.9.24)\n",
      "Collecting wavedrom\n",
      "  Downloading wavedrom-2.0.3.post3.tar.gz (137 kB)\n",
      "\u001b[2K     \u001b[90m━━━━━━━━━━━━━━━━━━━━━━━━━━━━━━━━━━━━━━\u001b[0m \u001b[32m137.7/137.7 kB\u001b[0m \u001b[31m32.3 MB/s\u001b[0m eta \u001b[36m0:00:00\u001b[0m\n",
      "\u001b[?25h  Preparing metadata (setup.py) ... \u001b[?25ldone\n",
      "\u001b[?25hRequirement already satisfied: urllib3<1.27,>=1.21.1 in /home/zai-user/.local/lib/python3.10/site-packages (from requests->fschat) (1.26.13)\n",
      "Requirement already satisfied: charset-normalizer<3,>=2 in /home/zai-user/.local/lib/python3.10/site-packages (from requests->fschat) (2.1.1)\n",
      "Requirement already satisfied: click>=7.0 in /home/zai-user/.local/lib/python3.10/site-packages (from uvicorn->fschat) (8.1.3)\n",
      "Requirement already satisfied: h11>=0.8 in /home/zai-user/.local/lib/python3.10/site-packages (from uvicorn->fschat) (0.14.0)\n",
      "Requirement already satisfied: setuptools in /home/zai-user/.local/lib/python3.10/site-packages (from wandb->fschat) (65.6.3)\n",
      "Collecting pathtools\n",
      "  Downloading pathtools-0.1.2.tar.gz (11 kB)\n",
      "  Preparing metadata (setup.py) ... \u001b[?25ldone\n",
      "\u001b[?25hCollecting appdirs>=1.4.3\n",
      "  Downloading appdirs-1.4.4-py2.py3-none-any.whl (9.6 kB)\n",
      "Requirement already satisfied: protobuf!=4.21.0,<5,>=3.19.0 in /home/zai-user/.local/lib/python3.10/site-packages (from wandb->fschat) (3.19.6)\n",
      "Collecting sentry-sdk>=1.0.0\n",
      "  Downloading sentry_sdk-1.24.0-py2.py3-none-any.whl (206 kB)\n",
      "\u001b[2K     \u001b[90m━━━━━━━━━━━━━━━━━━━━━━━━━━━━━━━━━━━━━━\u001b[0m \u001b[32m206.5/206.5 kB\u001b[0m \u001b[31m41.5 MB/s\u001b[0m eta \u001b[36m0:00:00\u001b[0m\n",
      "\u001b[?25hCollecting setproctitle\n",
      "  Downloading setproctitle-1.3.2-cp310-cp310-manylinux_2_5_x86_64.manylinux1_x86_64.manylinux_2_17_x86_64.manylinux2014_x86_64.whl (30 kB)\n",
      "Collecting docker-pycreds>=0.4.0\n",
      "  Downloading docker_pycreds-0.4.0-py2.py3-none-any.whl (9.0 kB)\n",
      "Requirement already satisfied: GitPython!=3.1.29,>=1.0.0 in /home/zai-user/.local/lib/python3.10/site-packages (from wandb->fschat) (3.1.31)\n",
      "Requirement already satisfied: jsonschema>=3.0 in /home/zai-user/.local/lib/python3.10/site-packages (from altair>=4.2.0->gradio==3.23->fschat) (4.17.1)\n",
      "Collecting toolz\n",
      "  Downloading toolz-0.12.0-py3-none-any.whl (55 kB)\n",
      "\u001b[2K     \u001b[90m━━━━━━━━━━━━━━━━━━━━━━━━━━━━━━━━━━━━━━━━\u001b[0m \u001b[32m55.8/55.8 kB\u001b[0m \u001b[31m11.0 MB/s\u001b[0m eta \u001b[36m0:00:00\u001b[0m\n",
      "\u001b[?25hRequirement already satisfied: six>=1.4.0 in /usr/lib/python3/dist-packages (from docker-pycreds>=0.4.0->wandb->fschat) (1.14.0)\n",
      "Requirement already satisfied: gitdb<5,>=4.0.1 in /home/zai-user/.local/lib/python3.10/site-packages (from GitPython!=3.1.29,>=1.0.0->wandb->fschat) (4.0.10)\n",
      "Collecting mdurl~=0.1\n",
      "  Downloading mdurl-0.1.2-py3-none-any.whl (10.0 kB)\n",
      "Collecting linkify-it-py<3,>=1\n",
      "  Downloading linkify_it_py-2.0.2-py3-none-any.whl (19 kB)\n",
      "Requirement already satisfied: pyparsing!=3.0.5,>=2.0.2 in /home/zai-user/.local/lib/python3.10/site-packages (from packaging>=20.0->transformers<4.29.0,>=4.28.0->fschat) (3.0.9)\n",
      "Requirement already satisfied: python-dateutil>=2.8.2 in /home/zai-user/.local/lib/python3.10/site-packages (from pandas->gradio==3.23->fschat) (2.8.2)\n",
      "Requirement already satisfied: pytz>=2020.1 in /home/zai-user/.local/lib/python3.10/site-packages (from pandas->gradio==3.23->fschat) (2022.6)\n",
      "Requirement already satisfied: tzdata>=2022.1 in /home/zai-user/.local/lib/python3.10/site-packages (from pandas->gradio==3.23->fschat) (2023.3)\n",
      "Requirement already satisfied: multidict<7.0,>=4.5 in /home/zai-user/.local/lib/python3.10/site-packages (from aiohttp->gradio==3.23->fschat) (6.0.2)\n",
      "Requirement already satisfied: attrs>=17.3.0 in /home/zai-user/.local/lib/python3.10/site-packages (from aiohttp->gradio==3.23->fschat) (22.1.0)\n",
      "Requirement already satisfied: async-timeout<5.0,>=4.0.0a3 in /home/zai-user/.local/lib/python3.10/site-packages (from aiohttp->gradio==3.23->fschat) (4.0.2)\n",
      "Requirement already satisfied: aiosignal>=1.1.2 in /home/zai-user/.local/lib/python3.10/site-packages (from aiohttp->gradio==3.23->fschat) (1.3.1)\n",
      "Requirement already satisfied: yarl<2.0,>=1.0 in /home/zai-user/.local/lib/python3.10/site-packages (from aiohttp->gradio==3.23->fschat) (1.8.1)\n",
      "Requirement already satisfied: frozenlist>=1.1.1 in /home/zai-user/.local/lib/python3.10/site-packages (from aiohttp->gradio==3.23->fschat) (1.3.3)\n",
      "Requirement already satisfied: contourpy>=1.0.1 in /home/zai-user/.local/lib/python3.10/site-packages (from matplotlib->gradio==3.23->fschat) (1.0.6)\n",
      "Requirement already satisfied: kiwisolver>=1.0.1 in /home/zai-user/.local/lib/python3.10/site-packages (from matplotlib->gradio==3.23->fschat) (1.4.4)\n",
      "Requirement already satisfied: fonttools>=4.22.0 in /home/zai-user/.local/lib/python3.10/site-packages (from matplotlib->gradio==3.23->fschat) (4.38.0)\n",
      "Requirement already satisfied: cycler>=0.10 in /home/zai-user/.local/lib/python3.10/site-packages (from matplotlib->gradio==3.23->fschat) (0.11.0)\n",
      "Collecting svgwrite\n",
      "  Downloading svgwrite-1.4.3-py3-none-any.whl (67 kB)\n",
      "\u001b[2K     \u001b[90m━━━━━━━━━━━━━━━━━━━━━━━━━━━━━━━━━━━━━━━━\u001b[0m \u001b[32m67.1/67.1 kB\u001b[0m \u001b[31m12.8 MB/s\u001b[0m eta \u001b[36m0:00:00\u001b[0m\n",
      "\u001b[?25hRequirement already satisfied: smmap<6,>=3.0.1 in /home/zai-user/.local/lib/python3.10/site-packages (from gitdb<5,>=4.0.1->GitPython!=3.1.29,>=1.0.0->wandb->fschat) (5.0.0)\n",
      "Requirement already satisfied: pyrsistent!=0.17.0,!=0.17.1,!=0.17.2,>=0.14.0 in /home/zai-user/.local/lib/python3.10/site-packages (from jsonschema>=3.0->altair>=4.2.0->gradio==3.23->fschat) (0.19.2)\n",
      "Collecting uc-micro-py\n",
      "  Downloading uc_micro_py-1.0.2-py3-none-any.whl (6.2 kB)\n",
      "Building wheels for collected packages: ffmpy, pathtools, wavedrom\n",
      "  Building wheel for ffmpy (setup.py) ... \u001b[?25ldone\n",
      "\u001b[?25h  Created wheel for ffmpy: filename=ffmpy-0.3.0-py3-none-any.whl size=4693 sha256=b732a30a05763fb23fa8755549058755257d3ad9ab4be1b12519ba15e0afb753\n",
      "  Stored in directory: /home/zai-user/.cache/pip/wheels/fe/17/e9/577da024bc5aede641c69f0675254c1e518db79800abbe135c\n",
      "  Building wheel for pathtools (setup.py) ... \u001b[?25ldone\n",
      "\u001b[?25h  Created wheel for pathtools: filename=pathtools-0.1.2-py3-none-any.whl size=8791 sha256=c9582493f0ae4302d33e20cd63a2abab1573021f940aed15d2d929c7e4885f0f\n",
      "  Stored in directory: /home/zai-user/.cache/pip/wheels/44/1b/54/249c94316d4e1030e2d0683fba1d8ea06197de866f5a4de738\n",
      "  Building wheel for wavedrom (setup.py) ... \u001b[?25ldone\n",
      "\u001b[?25h  Created wheel for wavedrom: filename=wavedrom-2.0.3.post3-py2.py3-none-any.whl size=29933 sha256=4b0d386e122817c496e7f04fda801d383b07c773261d24543a89921a756f7cfa\n",
      "  Stored in directory: /home/zai-user/.cache/pip/wheels/73/bf/c9/028629974e2d4aa425331dc71249ae55fcef287b727b5d14e2\n",
      "Successfully built ffmpy pathtools wavedrom\n",
      "Installing collected packages: tokenizers, sentencepiece, pydub, pathtools, nh3, ffmpy, appdirs, uc-micro-py, toolz, svgwrite, shortuuid, setproctitle, sentry-sdk, semantic-version, regex, mdurl, markdown2, fsspec, docker-pycreds, aiofiles, wavedrom, tiktoken, markdown-it-py, linkify-it-py, huggingface-hub, httpcore, accelerate, wandb, transformers, mdit-py-plugins, httpx, altair, gradio, fschat\n",
      "Successfully installed accelerate-0.19.0 aiofiles-23.1.0 altair-5.0.1 appdirs-1.4.4 docker-pycreds-0.4.0 ffmpy-0.3.0 fschat-0.2.11 fsspec-2023.5.0 gradio-3.23.0 httpcore-0.17.2 httpx-0.24.1 huggingface-hub-0.14.1 linkify-it-py-2.0.2 markdown-it-py-2.2.0 markdown2-2.4.8 mdit-py-plugins-0.3.3 mdurl-0.1.2 nh3-0.2.11 pathtools-0.1.2 pydub-0.25.1 regex-2023.5.5 semantic-version-2.10.0 sentencepiece-0.1.99 sentry-sdk-1.24.0 setproctitle-1.3.2 shortuuid-1.0.11 svgwrite-1.4.3 tiktoken-0.4.0 tokenizers-0.13.3 toolz-0.12.0 transformers-4.28.1 uc-micro-py-1.0.2 wandb-0.15.3 wavedrom-2.0.3.post3\n",
      "\n",
      "\u001b[1m[\u001b[0m\u001b[34;49mnotice\u001b[0m\u001b[1;39;49m]\u001b[0m\u001b[39;49m A new release of pip available: \u001b[0m\u001b[31;49m22.3.1\u001b[0m\u001b[39;49m -> \u001b[0m\u001b[32;49m23.1.2\u001b[0m\n",
      "\u001b[1m[\u001b[0m\u001b[34;49mnotice\u001b[0m\u001b[1;39;49m]\u001b[0m\u001b[39;49m To update, run: \u001b[0m\u001b[32;49mpip install --upgrade pip\u001b[0m\n"
     ]
    }
   ],
   "source": [
    "!pip3 install fschat"
   ]
  },
  {
   "attachments": {},
   "cell_type": "markdown",
   "metadata": {},
   "source": [
    "### 2. LLaMA weigth 다운로드\n",
    "\n",
    "30GB RAM에서 작동할 수 있도록 Vicuna-7B를 이용한다. Vicuna-7B의 경우 llama-7b를 이용하여 vicuna weight를 추가하는 방법으로 얻을 수 있다.\n",
    "\n",
    "LLaMA weights:\n",
    "https://huggingface.co/decapoda-research\n"
   ]
  },
  {
   "cell_type": "code",
   "execution_count": 3,
   "metadata": {},
   "outputs": [
    {
     "name": "stdout",
     "output_type": "stream",
     "text": [
      "git: 'lfs' is not a git command. See 'git --help'.\n",
      "\n",
      "The most similar command is\n",
      "\tlog\n",
      "Cloning into 'llama-7b-hf'...\n",
      "The authenticity of host 'hf.co (3.210.66.237)' can't be established.\n",
      "ECDSA key fingerprint is SHA256:aBG5R7IomF4BSsx/h6tNAUVLhEkkaNGB8Sluyh/Q/qY.\n",
      "Are you sure you want to continue connecting (yes/no/[fingerprint])? "
     ]
    }
   ],
   "source": [
    "## LLaMA weight 다운로드\n",
    "!git lfs install\n",
    "!git clone git@hf.co:decapoda-research/llama-7b-hf\n"
   ]
  },
  {
   "cell_type": "code",
   "execution_count": null,
   "metadata": {},
   "outputs": [],
   "source": []
  },
  {
   "cell_type": "code",
   "execution_count": null,
   "metadata": {},
   "outputs": [],
   "source": [
    "\"\"\"\n",
    "tokenizer_config.json 수정\n",
    "\n",
    "\"tokenizer_class\": \"LLaMATokenizer\" -> \"tokenizer_class\": \"LlaMATokenizer\"\n",
    "\"\"\""
   ]
  },
  {
   "cell_type": "code",
   "execution_count": 2,
   "metadata": {},
   "outputs": [
    {
     "name": "stderr",
     "output_type": "stream",
     "text": [
      "/home/zai-user/.local/lib/python3.10/site-packages/tqdm/auto.py:22: TqdmWarning: IProgress not found. Please update jupyter and ipywidgets. See https://ipywidgets.readthedocs.io/en/stable/user_install.html\n",
      "  from .autonotebook import tqdm as notebook_tqdm\n",
      "Downloading (…)okenizer_config.json: 100%|██████████| 141/141 [00:00<00:00, 361kB/s]\n"
     ]
    },
    {
     "ename": "ValueError",
     "evalue": "Tokenizer class LLaMATokenizer does not exist or is not currently imported.",
     "output_type": "error",
     "traceback": [
      "\u001b[0;31m---------------------------------------------------------------------------\u001b[0m",
      "\u001b[0;31mValueError\u001b[0m                                Traceback (most recent call last)",
      "\u001b[1;32m/home/zai-user/jeff/kollm/vicuna.ipynb 셀 5\u001b[0m in \u001b[0;36m3\n\u001b[1;32m      <a href='vscode-notebook-cell://ssh-remote%2Bgpu-server-new/home/zai-user/jeff/kollm/vicuna.ipynb#W6sdnNjb2RlLXJlbW90ZQ%3D%3D?line=0'>1</a>\u001b[0m \u001b[39mfrom\u001b[39;00m \u001b[39mtransformers\u001b[39;00m \u001b[39mimport\u001b[39;00m AutoTokenizer, AutoModelForCausalLM\n\u001b[0;32m----> <a href='vscode-notebook-cell://ssh-remote%2Bgpu-server-new/home/zai-user/jeff/kollm/vicuna.ipynb#W6sdnNjb2RlLXJlbW90ZQ%3D%3D?line=2'>3</a>\u001b[0m tokenizer \u001b[39m=\u001b[39m AutoTokenizer\u001b[39m.\u001b[39;49mfrom_pretrained(\u001b[39m\"\u001b[39;49m\u001b[39mdecapoda-research/llama-7b-hf\u001b[39;49m\u001b[39m\"\u001b[39;49m)\n\u001b[1;32m      <a href='vscode-notebook-cell://ssh-remote%2Bgpu-server-new/home/zai-user/jeff/kollm/vicuna.ipynb#W6sdnNjb2RlLXJlbW90ZQ%3D%3D?line=4'>5</a>\u001b[0m model \u001b[39m=\u001b[39m AutoModelForCausalLM\u001b[39m.\u001b[39mfrom_pretrained(\u001b[39m\"\u001b[39m\u001b[39mdecapoda-research/llama-7b-hf\u001b[39m\u001b[39m\"\u001b[39m)\n",
      "File \u001b[0;32m~/.local/lib/python3.10/site-packages/transformers/models/auto/tokenization_auto.py:699\u001b[0m, in \u001b[0;36mAutoTokenizer.from_pretrained\u001b[0;34m(cls, pretrained_model_name_or_path, *inputs, **kwargs)\u001b[0m\n\u001b[1;32m    696\u001b[0m         tokenizer_class \u001b[39m=\u001b[39m tokenizer_class_from_name(tokenizer_class_candidate)\n\u001b[1;32m    698\u001b[0m     \u001b[39mif\u001b[39;00m tokenizer_class \u001b[39mis\u001b[39;00m \u001b[39mNone\u001b[39;00m:\n\u001b[0;32m--> 699\u001b[0m         \u001b[39mraise\u001b[39;00m \u001b[39mValueError\u001b[39;00m(\n\u001b[1;32m    700\u001b[0m             \u001b[39mf\u001b[39m\u001b[39m\"\u001b[39m\u001b[39mTokenizer class \u001b[39m\u001b[39m{\u001b[39;00mtokenizer_class_candidate\u001b[39m}\u001b[39;00m\u001b[39m does not exist or is not currently imported.\u001b[39m\u001b[39m\"\u001b[39m\n\u001b[1;32m    701\u001b[0m         )\n\u001b[1;32m    702\u001b[0m     \u001b[39mreturn\u001b[39;00m tokenizer_class\u001b[39m.\u001b[39mfrom_pretrained(pretrained_model_name_or_path, \u001b[39m*\u001b[39minputs, \u001b[39m*\u001b[39m\u001b[39m*\u001b[39mkwargs)\n\u001b[1;32m    704\u001b[0m \u001b[39m# Otherwise we have to be creative.\u001b[39;00m\n\u001b[1;32m    705\u001b[0m \u001b[39m# if model is an encoder decoder, the encoder tokenizer class is used by default\u001b[39;00m\n",
      "\u001b[0;31mValueError\u001b[0m: Tokenizer class LLaMATokenizer does not exist or is not currently imported."
     ]
    }
   ],
   "source": [
    "from transformers import AutoTokenizer, AutoModelForCausalLM\n",
    "\n",
    "tokenizer = AutoTokenizer.from_pretrained(\"./llama-7b-hf\")\n",
    "\n",
    "model = AutoModelForCausalLM.from_pretrained(\"./llama-7b-hf\")"
   ]
  },
  {
   "cell_type": "code",
   "execution_count": null,
   "metadata": {},
   "outputs": [],
   "source": []
  }
 ],
 "metadata": {
  "kernelspec": {
   "display_name": "Python 3",
   "language": "python",
   "name": "python3"
  },
  "language_info": {
   "codemirror_mode": {
    "name": "ipython",
    "version": 3
   },
   "file_extension": ".py",
   "mimetype": "text/x-python",
   "name": "python",
   "nbconvert_exporter": "python",
   "pygments_lexer": "ipython3",
   "version": "3.10.8"
  },
  "orig_nbformat": 4
 },
 "nbformat": 4,
 "nbformat_minor": 2
}
